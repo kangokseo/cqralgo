{
 "cells": [
  {
   "cell_type": "code",
   "execution_count": 88,
   "metadata": {},
   "outputs": [],
   "source": [
    "import keyring\n",
    "import requests\n",
    "import json\n",
    "import pandas as pd"
   ]
  },
  {
   "cell_type": "code",
   "execution_count": 101,
   "metadata": {},
   "outputs": [],
   "source": [
    "keyring.set_password('real_app_key', 'kannie', 'PSnvAltwjE5ZrOaITkVgetxCutSSexVH4qEw')\n",
    "keyring.set_password('real_app_secrect', 'kannie', 'LLhGO6tUDaepjBRFtocxjcYPZbkLfR5mKRFJrPccIkOBVfLsUhkVMFNWy7h7bWAD4CSq3nPowAYX/MMocSI9MAXrbNximason8X8V44iWkrrH/+IJT7E8CAN6fiCQwcnuHLZi/ryI/AzgHLHxwf56cCj/jEMtjrvxf6aITV5WrzSSmYLNOg=')\n",
    "\n",
    "keyring.set_password('mock_app_key', 'kannie', 'PSnwe2lboWhKABz4afYQUf5Cnm0x6IlBxt6F')\n",
    "keyring.set_password('mock_app_secret', 'kannie', 'zFilo09//IcL6SKcVd+VHCxiGuhmVhu+llV1emGjL+J202Y9w1hxyFszqhvzBXjcM34t3QTULxOxM5heeVPCJJQSTSaiZEYMHXyddWCaLVwZiT93dpzgwfnOC0Stc1pmvlxbBAzux5ASV+hZuiYAZ6KTYKxexelADUlR3mIBDbeNfBkNuiw=')\n",
    "\n",
    "app_key = keyring.get_password('mock_app_key', 'kannie')\n",
    "app_secret = keyring.get_password('mock_app_secret','kannie')\n",
    "\n",
    "url_base = \"https://openapivts.koreainvestment.com:29443\" #모의투자\n",
    "#url_base = \"https://openapivts.koreainvestment.com:9443\" #실전투자\n",
    " \n",
    "headers ={\"content-type\":\"application/json\"}\n",
    "path = \"oauth2/tokenP\"\n",
    "body = {\n",
    "    \"grant_type\": \"client_credentials\",\n",
    "    \"appkey\": app_key,\n",
    "    \"appsecret\": app_secret,\n",
    "}\n",
    "\n",
    "url = f\"{url_base}/{path}\"\n",
    "\n",
    "#access token 발급\n",
    "res = requests.post(url, headers=headers, data=json.dumps(body))\n",
    "access_token=res.json()['access_token']"
   ]
  },
  {
   "cell_type": "code",
   "execution_count": 98,
   "metadata": {},
   "outputs": [],
   "source": [
    "access_token=res.json()['access_token']"
   ]
  },
  {
   "cell_type": "code",
   "execution_count": 100,
   "metadata": {},
   "outputs": [
    {
     "data": {
      "text/plain": [
       "str"
      ]
     },
     "execution_count": 100,
     "metadata": {},
     "output_type": "execute_result"
    }
   ],
   "source": [
    "type(access_token)"
   ]
  },
  {
   "cell_type": "code",
   "execution_count": 50,
   "metadata": {},
   "outputs": [],
   "source": [
    "def hashkey(datas):\n",
    "    path=\"uapi/hashkey\"\n",
    "    url = f\"{url_base}/{path}\"\n",
    "    headers = {\n",
    "        'content-Type': 'application/json',\n",
    "        'appKey': app_key,\n",
    "        'appSecret': app_secret,\n",
    "    }\n",
    "    res = requests.post(url, headers=headers, data=json.dumps(datas))\n",
    "    hashkey = res.json()[\"HASH\"]\n",
    "    return hashkey\n",
    "\n"
   ]
  },
  {
   "cell_type": "code",
   "execution_count": 59,
   "metadata": {},
   "outputs": [
    {
     "data": {
      "text/plain": [
       "'205000'"
      ]
     },
     "execution_count": 59,
     "metadata": {},
     "output_type": "execute_result"
    }
   ],
   "source": [
    "#현재가 조회\n",
    "path = \"uapi/domestic-stock/v1/quotations/inquire-price\"\n",
    "url = f\"{url_base}/{path}\"\n",
    "\n",
    "headers = {\n",
    "    \"Content-Type\": \"application/json\",\n",
    "    \"authorization\": f\"Bearer {access_token}\",\n",
    "    \"appKey\": app_key,\n",
    "    \"appSecret\": app_secret,\n",
    "    \"tr_id\": \"FHKST01010100\"\n",
    "}\n",
    "\n",
    "params = {\"fid_cond_mrkt_div_code\": \"J\", \"fid_input_iscd\": \"035420\"} #005930 삼성전자. 035420 네이버\n",
    "\n",
    "res = requests.get(url, headers=headers, params=params)\n",
    "res.json()['output']['stck_prpr']"
   ]
  },
  {
   "cell_type": "code",
   "execution_count": 60,
   "metadata": {},
   "outputs": [
    {
     "data": {
      "text/html": [
       "<div>\n",
       "<style scoped>\n",
       "    .dataframe tbody tr th:only-of-type {\n",
       "        vertical-align: middle;\n",
       "    }\n",
       "\n",
       "    .dataframe tbody tr th {\n",
       "        vertical-align: top;\n",
       "    }\n",
       "\n",
       "    .dataframe thead th {\n",
       "        text-align: right;\n",
       "    }\n",
       "</style>\n",
       "<table border=\"1\" class=\"dataframe\">\n",
       "  <thead>\n",
       "    <tr style=\"text-align: right;\">\n",
       "      <th></th>\n",
       "      <th>0</th>\n",
       "    </tr>\n",
       "  </thead>\n",
       "  <tbody>\n",
       "    <tr>\n",
       "      <th>0</th>\n",
       "      <td>2</td>\n",
       "    </tr>\n",
       "    <tr>\n",
       "      <th>1</th>\n",
       "      <td>0</td>\n",
       "    </tr>\n",
       "    <tr>\n",
       "      <th>2</th>\n",
       "      <td>5</td>\n",
       "    </tr>\n",
       "    <tr>\n",
       "      <th>3</th>\n",
       "      <td>0</td>\n",
       "    </tr>\n",
       "    <tr>\n",
       "      <th>4</th>\n",
       "      <td>0</td>\n",
       "    </tr>\n",
       "    <tr>\n",
       "      <th>5</th>\n",
       "      <td>0</td>\n",
       "    </tr>\n",
       "  </tbody>\n",
       "</table>\n",
       "</div>"
      ],
      "text/plain": [
       "   0\n",
       "0  2\n",
       "1  0\n",
       "2  5\n",
       "3  0\n",
       "4  0\n",
       "5  0"
      ]
     },
     "execution_count": 60,
     "metadata": {},
     "output_type": "execute_result"
    }
   ],
   "source": [
    "ap1=pd.DataFrame.from_records(res.json()['output']['stck_prpr'])\n",
    "ap1"
   ]
  },
  {
   "cell_type": "code",
   "execution_count": 53,
   "metadata": {},
   "outputs": [
    {
     "data": {
      "text/plain": [
       "{'output': {'iscd_stat_cls_code': '55',\n",
       "  'marg_rate': '40.00',\n",
       "  'rprs_mrkt_kor_name': 'KOSPI200',\n",
       "  'bstp_kor_isnm': '서비스업',\n",
       "  'temp_stop_yn': 'N',\n",
       "  'oprc_rang_cont_yn': 'N',\n",
       "  'clpr_rang_cont_yn': 'N',\n",
       "  'crdt_able_yn': 'Y',\n",
       "  'grmn_rate_cls_code': '40',\n",
       "  'elw_pblc_yn': 'Y',\n",
       "  'stck_prpr': '205000',\n",
       "  'prdy_vrss': '1500',\n",
       "  'prdy_vrss_sign': '2',\n",
       "  'prdy_ctrt': '0.74',\n",
       "  'acml_tr_pbmn': '205911570624',\n",
       "  'acml_vol': '999143',\n",
       "  'prdy_vrss_vol_rate': '105.66',\n",
       "  'stck_oprc': '205500',\n",
       "  'stck_hgpr': '209000',\n",
       "  'stck_lwpr': '204000',\n",
       "  'stck_mxpr': '264500',\n",
       "  'stck_llam': '142500',\n",
       "  'stck_sdpr': '203500',\n",
       "  'wghn_avrg_stck_prc': '206119.15',\n",
       "  'hts_frgn_ehrt': '47.96',\n",
       "  'frgn_ntby_qty': '1248',\n",
       "  'pgtr_ntby_qty': '-10307',\n",
       "  'pvt_scnd_dmrs_prc': '211500',\n",
       "  'pvt_frst_dmrs_prc': '207500',\n",
       "  'pvt_pont_val': '205500',\n",
       "  'pvt_frst_dmsp_prc': '201500',\n",
       "  'pvt_scnd_dmsp_prc': '199500',\n",
       "  'dmrs_val': '206500',\n",
       "  'dmsp_val': '200500',\n",
       "  'cpfn': '165',\n",
       "  'rstc_wdth_prc': '61000',\n",
       "  'stck_fcam': '100',\n",
       "  'stck_sspr': '158730',\n",
       "  'aspr_unit': '500',\n",
       "  'hts_deal_qty_unit_val': '1',\n",
       "  'lstn_stcn': '162408594',\n",
       "  'hts_avls': '332938',\n",
       "  'per': '44.24',\n",
       "  'pbr': '1.42',\n",
       "  'stac_month': '12',\n",
       "  'vol_tnrt': '0.62',\n",
       "  'eps': '4634.00',\n",
       "  'bps': '144841.00',\n",
       "  'd250_hgpr': '241500',\n",
       "  'd250_hgpr_date': '20230807',\n",
       "  'd250_hgpr_vrss_prpr_rate': '-15.11',\n",
       "  'd250_lwpr': '178000',\n",
       "  'd250_lwpr_date': '20231020',\n",
       "  'd250_lwpr_vrss_prpr_rate': '15.17',\n",
       "  'stck_dryy_hgpr': '235500',\n",
       "  'dryy_hgpr_vrss_prpr_rate': '-12.95',\n",
       "  'dryy_hgpr_date': '20240116',\n",
       "  'stck_dryy_lwpr': '198600',\n",
       "  'dryy_lwpr_vrss_prpr_rate': '3.22',\n",
       "  'dryy_lwpr_date': '20240201',\n",
       "  'w52_hgpr': '241500',\n",
       "  'w52_hgpr_vrss_prpr_ctrt': '-15.11',\n",
       "  'w52_hgpr_date': '20230807',\n",
       "  'w52_lwpr': '178000',\n",
       "  'w52_lwpr_vrss_prpr_ctrt': '15.17',\n",
       "  'w52_lwpr_date': '20231020',\n",
       "  'whol_loan_rmnd_rate': '0.54',\n",
       "  'ssts_yn': 'N',\n",
       "  'stck_shrn_iscd': '035420',\n",
       "  'fcam_cnnm': '100',\n",
       "  'cpfn_cnnm': '164 억',\n",
       "  'frgn_hldn_qty': '77894099',\n",
       "  'vi_cls_code': 'N',\n",
       "  'ovtm_vi_cls_code': 'N',\n",
       "  'last_ssts_cntg_qty': '2522',\n",
       "  'invt_caful_yn': 'N',\n",
       "  'mrkt_warn_cls_code': '00',\n",
       "  'short_over_yn': 'N',\n",
       "  'sltr_yn': 'N'},\n",
       " 'rt_cd': '0',\n",
       " 'msg_cd': 'MCA00000',\n",
       " 'msg1': '정상처리 되었습니다.'}"
      ]
     },
     "execution_count": 53,
     "metadata": {},
     "output_type": "execute_result"
    }
   ],
   "source": [
    "res.json()"
   ]
  },
  {
   "cell_type": "code",
   "execution_count": 102,
   "metadata": {},
   "outputs": [
    {
     "data": {
      "text/plain": [
       "[{'dnca_tot_amt': '10000000',\n",
       "  'nxdy_excc_amt': '10000000',\n",
       "  'prvs_rcdl_excc_amt': '10000000',\n",
       "  'cma_evlu_amt': '0',\n",
       "  'bfdy_buy_amt': '0',\n",
       "  'thdt_buy_amt': '0',\n",
       "  'nxdy_auto_rdpt_amt': '0',\n",
       "  'bfdy_sll_amt': '0',\n",
       "  'thdt_sll_amt': '0',\n",
       "  'd2_auto_rdpt_amt': '0',\n",
       "  'bfdy_tlex_amt': '0',\n",
       "  'thdt_tlex_amt': '0',\n",
       "  'tot_loan_amt': '0',\n",
       "  'scts_evlu_amt': '0',\n",
       "  'tot_evlu_amt': '10000000',\n",
       "  'nass_amt': '10000000',\n",
       "  'fncg_gld_auto_rdpt_yn': '',\n",
       "  'pchs_amt_smtl_amt': '0',\n",
       "  'evlu_amt_smtl_amt': '0',\n",
       "  'evlu_pfls_smtl_amt': '0',\n",
       "  'tot_stln_slng_chgs': '0',\n",
       "  'bfdy_tot_asst_evlu_amt': '10000000',\n",
       "  'asst_icdc_amt': '0',\n",
       "  'asst_icdc_erng_rt': '0.00000000'}]"
      ]
     },
     "execution_count": 102,
     "metadata": {},
     "output_type": "execute_result"
    }
   ],
   "source": [
    "path = \"/uapi/domestic-stock/v1/trading/inquire-balance\"\n",
    "url = f\"{url_base}/{path}\"\n",
    "\n",
    "headers = {\n",
    "    \"Content-Type\": \"application/json\",\n",
    "    \"authorization\": f\"Bearer {access_token}\",\n",
    "    \"appKey\": app_key,\n",
    "    \"appSecret\": app_secret,\n",
    "    \"tr_id\": \"VTTC8434R\"\n",
    "}\n",
    "\n",
    "params = {\n",
    "    \"CANO\": \"50102070\",  # 계좌번호 앞 8지리\n",
    "    \"ACNT_PRDT_CD\": \"01\",  # 계좌번호 뒤 2자리\n",
    "    \"AFHR_FLPR_YN\": \"N\",  # 시간외단일가여부\n",
    "    \"OFL_YN\": \"\",  # 공란\n",
    "    \"INQR_DVSN\": \"01\",  # 조회구분\n",
    "    \"UNPR_DVSN\": \"01\",  # 단가구분\n",
    "    \"FUND_STTL_ICLD_YN\": \"N\",  # 펀드결제분포함여부\n",
    "    \"FNCG_AMT_AUTO_RDPT_YN\": \"N\",  # 융자금액자동상환여부        \n",
    "    \"PRCS_DVSN\": \"00\",  # 처리구분(00: 전일매매포함)\n",
    "    \"CTX_AREA_FK100\": \"\",  # 연속조회검색조건\n",
    "    \"CTX_AREA_NK100\": \"\"  # 연속조회키\n",
    "}\n",
    "\n",
    "res = requests.get(url, headers=headers, params=params) #계좌잔고\n",
    "res.json()['output2']\n"
   ]
  },
  {
   "cell_type": "code",
   "execution_count": 56,
   "metadata": {},
   "outputs": [
    {
     "data": {
      "text/plain": [
       "{'ctx_area_fk100': '                                                                                                    ',\n",
       " 'ctx_area_nk100': '                                                                                                    ',\n",
       " 'output1': [],\n",
       " 'output2': [{'dnca_tot_amt': '10000000',\n",
       "   'nxdy_excc_amt': '10000000',\n",
       "   'prvs_rcdl_excc_amt': '10000000',\n",
       "   'cma_evlu_amt': '0',\n",
       "   'bfdy_buy_amt': '0',\n",
       "   'thdt_buy_amt': '0',\n",
       "   'nxdy_auto_rdpt_amt': '0',\n",
       "   'bfdy_sll_amt': '0',\n",
       "   'thdt_sll_amt': '0',\n",
       "   'd2_auto_rdpt_amt': '0',\n",
       "   'bfdy_tlex_amt': '0',\n",
       "   'thdt_tlex_amt': '0',\n",
       "   'tot_loan_amt': '0',\n",
       "   'scts_evlu_amt': '0',\n",
       "   'tot_evlu_amt': '10000000',\n",
       "   'nass_amt': '10000000',\n",
       "   'fncg_gld_auto_rdpt_yn': '',\n",
       "   'pchs_amt_smtl_amt': '0',\n",
       "   'evlu_amt_smtl_amt': '0',\n",
       "   'evlu_pfls_smtl_amt': '0',\n",
       "   'tot_stln_slng_chgs': '0',\n",
       "   'bfdy_tot_asst_evlu_amt': '10000000',\n",
       "   'asst_icdc_amt': '0',\n",
       "   'asst_icdc_erng_rt': '0.00000000'}],\n",
       " 'rt_cd': '0',\n",
       " 'msg_cd': '20310000',\n",
       " 'msg1': '모의투자 조회가 완료되었습니다.                                                 '}"
      ]
     },
     "execution_count": 56,
     "metadata": {},
     "output_type": "execute_result"
    }
   ],
   "source": [
    "res.json()"
   ]
  },
  {
   "cell_type": "code",
   "execution_count": 57,
   "metadata": {},
   "outputs": [
    {
     "data": {
      "text/html": [
       "<div>\n",
       "<style scoped>\n",
       "    .dataframe tbody tr th:only-of-type {\n",
       "        vertical-align: middle;\n",
       "    }\n",
       "\n",
       "    .dataframe tbody tr th {\n",
       "        vertical-align: top;\n",
       "    }\n",
       "\n",
       "    .dataframe thead th {\n",
       "        text-align: right;\n",
       "    }\n",
       "</style>\n",
       "<table border=\"1\" class=\"dataframe\">\n",
       "  <thead>\n",
       "    <tr style=\"text-align: right;\">\n",
       "      <th></th>\n",
       "      <th>dnca_tot_amt</th>\n",
       "      <th>nxdy_excc_amt</th>\n",
       "      <th>prvs_rcdl_excc_amt</th>\n",
       "      <th>cma_evlu_amt</th>\n",
       "      <th>bfdy_buy_amt</th>\n",
       "      <th>thdt_buy_amt</th>\n",
       "      <th>nxdy_auto_rdpt_amt</th>\n",
       "      <th>bfdy_sll_amt</th>\n",
       "      <th>thdt_sll_amt</th>\n",
       "      <th>d2_auto_rdpt_amt</th>\n",
       "      <th>...</th>\n",
       "      <th>tot_evlu_amt</th>\n",
       "      <th>nass_amt</th>\n",
       "      <th>fncg_gld_auto_rdpt_yn</th>\n",
       "      <th>pchs_amt_smtl_amt</th>\n",
       "      <th>evlu_amt_smtl_amt</th>\n",
       "      <th>evlu_pfls_smtl_amt</th>\n",
       "      <th>tot_stln_slng_chgs</th>\n",
       "      <th>bfdy_tot_asst_evlu_amt</th>\n",
       "      <th>asst_icdc_amt</th>\n",
       "      <th>asst_icdc_erng_rt</th>\n",
       "    </tr>\n",
       "  </thead>\n",
       "  <tbody>\n",
       "    <tr>\n",
       "      <th>0</th>\n",
       "      <td>10000000</td>\n",
       "      <td>10000000</td>\n",
       "      <td>10000000</td>\n",
       "      <td>0</td>\n",
       "      <td>0</td>\n",
       "      <td>0</td>\n",
       "      <td>0</td>\n",
       "      <td>0</td>\n",
       "      <td>0</td>\n",
       "      <td>0</td>\n",
       "      <td>...</td>\n",
       "      <td>10000000</td>\n",
       "      <td>10000000</td>\n",
       "      <td></td>\n",
       "      <td>0</td>\n",
       "      <td>0</td>\n",
       "      <td>0</td>\n",
       "      <td>0</td>\n",
       "      <td>10000000</td>\n",
       "      <td>0</td>\n",
       "      <td>0.00000000</td>\n",
       "    </tr>\n",
       "  </tbody>\n",
       "</table>\n",
       "<p>1 rows × 24 columns</p>\n",
       "</div>"
      ],
      "text/plain": [
       "  dnca_tot_amt nxdy_excc_amt prvs_rcdl_excc_amt cma_evlu_amt bfdy_buy_amt  \\\n",
       "0     10000000      10000000           10000000            0            0   \n",
       "\n",
       "  thdt_buy_amt nxdy_auto_rdpt_amt bfdy_sll_amt thdt_sll_amt d2_auto_rdpt_amt  \\\n",
       "0            0                  0            0            0                0   \n",
       "\n",
       "   ... tot_evlu_amt  nass_amt fncg_gld_auto_rdpt_yn pchs_amt_smtl_amt  \\\n",
       "0  ...     10000000  10000000                                       0   \n",
       "\n",
       "  evlu_amt_smtl_amt evlu_pfls_smtl_amt tot_stln_slng_chgs  \\\n",
       "0                 0                  0                  0   \n",
       "\n",
       "  bfdy_tot_asst_evlu_amt asst_icdc_amt asst_icdc_erng_rt  \n",
       "0               10000000             0        0.00000000  \n",
       "\n",
       "[1 rows x 24 columns]"
      ]
     },
     "execution_count": 57,
     "metadata": {},
     "output_type": "execute_result"
    }
   ],
   "source": [
    "\n",
    "ap=pd.DataFrame.from_records(res.json()['output2'])\n",
    "ap\n"
   ]
  },
  {
   "cell_type": "code",
   "execution_count": null,
   "metadata": {},
   "outputs": [],
   "source": []
  }
 ],
 "metadata": {
  "kernelspec": {
   "display_name": "v3121",
   "language": "python",
   "name": "python3"
  },
  "language_info": {
   "codemirror_mode": {
    "name": "ipython",
    "version": 3
   },
   "file_extension": ".py",
   "mimetype": "text/x-python",
   "name": "python",
   "nbconvert_exporter": "python",
   "pygments_lexer": "ipython3",
   "version": "3.12.1"
  }
 },
 "nbformat": 4,
 "nbformat_minor": 2
}
