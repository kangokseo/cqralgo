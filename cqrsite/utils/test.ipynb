{
 "cells": [
  {
   "cell_type": "code",
   "execution_count": 3,
   "metadata": {},
   "outputs": [],
   "source": [
    "import pandas as pd\n",
    "from datetime import datetime"
   ]
  },
  {
   "cell_type": "code",
   "execution_count": 8,
   "metadata": {},
   "outputs": [],
   "source": [
    "df = pd.read_csv(r'C:\\Users\\kango\\Desktop\\cqralgo\\cqrsite\\portfolio\\cvs\\종목별투자비중추이20240208.csv')\n",
    "df=df.rename(columns={'KODEX 200 mkt val':'KODEX200', 'KODEX 국고채3년 mkt val':'국고채3','TIGER 미국나스닥100 mkt val':'나스닥100', \n",
    "                      'TIGER 미국S&P500선물(H) mkt val':'S&P500', 'KODEX 단기채권 mkt val':'단기채', 'TIGER 단기통안채 mkt val':'통안채',\n",
    "                      'KODEX 코스닥150 mkt val':'코스닥150', 'cash_rem':'cash', 'total':'total'})"
   ]
  },
  {
   "cell_type": "code",
   "execution_count": 12,
   "metadata": {},
   "outputs": [
    {
     "data": {
      "text/html": [
       "<div>\n",
       "<style scoped>\n",
       "    .dataframe tbody tr th:only-of-type {\n",
       "        vertical-align: middle;\n",
       "    }\n",
       "\n",
       "    .dataframe tbody tr th {\n",
       "        vertical-align: top;\n",
       "    }\n",
       "\n",
       "    .dataframe thead th {\n",
       "        text-align: right;\n",
       "    }\n",
       "</style>\n",
       "<table border=\"1\" class=\"dataframe\">\n",
       "  <thead>\n",
       "    <tr style=\"text-align: right;\">\n",
       "      <th></th>\n",
       "      <th>Date</th>\n",
       "      <th>코스닥150</th>\n",
       "      <th>KODEX200</th>\n",
       "      <th>나스닥100</th>\n",
       "      <th>S&amp;P500</th>\n",
       "      <th>국고채3</th>\n",
       "      <th>단기채</th>\n",
       "      <th>통안채</th>\n",
       "      <th>cash</th>\n",
       "      <th>total</th>\n",
       "    </tr>\n",
       "  </thead>\n",
       "  <tbody>\n",
       "    <tr>\n",
       "      <th>0</th>\n",
       "      <td>2015-10-30 00:00:00</td>\n",
       "      <td>0.00%</td>\n",
       "      <td>9.98%</td>\n",
       "      <td>19.99%</td>\n",
       "      <td>19.99%</td>\n",
       "      <td>16.64%</td>\n",
       "      <td>16.66%</td>\n",
       "      <td>16.65%</td>\n",
       "      <td>0.08%</td>\n",
       "      <td>100.00%</td>\n",
       "    </tr>\n",
       "    <tr>\n",
       "      <th>1</th>\n",
       "      <td>2015-11-02 00:00:00</td>\n",
       "      <td>0.00%</td>\n",
       "      <td>10.01%</td>\n",
       "      <td>19.86%</td>\n",
       "      <td>19.83%</td>\n",
       "      <td>16.73%</td>\n",
       "      <td>16.75%</td>\n",
       "      <td>16.75%</td>\n",
       "      <td>0.08%</td>\n",
       "      <td>100.00%</td>\n",
       "    </tr>\n",
       "    <tr>\n",
       "      <th>2</th>\n",
       "      <td>2015-11-03 00:00:00</td>\n",
       "      <td>0.00%</td>\n",
       "      <td>10.05%</td>\n",
       "      <td>19.94%</td>\n",
       "      <td>20.01%</td>\n",
       "      <td>16.62%</td>\n",
       "      <td>16.66%</td>\n",
       "      <td>16.65%</td>\n",
       "      <td>0.08%</td>\n",
       "      <td>100.00%</td>\n",
       "    </tr>\n",
       "    <tr>\n",
       "      <th>3</th>\n",
       "      <td>2015-11-04 00:00:00</td>\n",
       "      <td>0.00%</td>\n",
       "      <td>10.03%</td>\n",
       "      <td>19.97%</td>\n",
       "      <td>20.04%</td>\n",
       "      <td>16.60%</td>\n",
       "      <td>16.64%</td>\n",
       "      <td>16.63%</td>\n",
       "      <td>0.08%</td>\n",
       "      <td>100.00%</td>\n",
       "    </tr>\n",
       "    <tr>\n",
       "      <th>4</th>\n",
       "      <td>2015-11-05 00:00:00</td>\n",
       "      <td>0.00%</td>\n",
       "      <td></td>\n",
       "      <td>20.09%</td>\n",
       "      <td>19.99%</td>\n",
       "      <td>16.58%</td>\n",
       "      <td>16.63%</td>\n",
       "      <td>16.62%</td>\n",
       "      <td>0.08%</td>\n",
       "      <td>100.00%</td>\n",
       "    </tr>\n",
       "    <tr>\n",
       "      <th>...</th>\n",
       "      <td>...</td>\n",
       "      <td>...</td>\n",
       "      <td>...</td>\n",
       "      <td>...</td>\n",
       "      <td>...</td>\n",
       "      <td>...</td>\n",
       "      <td>...</td>\n",
       "      <td>...</td>\n",
       "      <td>...</td>\n",
       "      <td>...</td>\n",
       "    </tr>\n",
       "    <tr>\n",
       "      <th>1746</th>\n",
       "      <td>2022-12-23 00:00:00</td>\n",
       "      <td>20.70%</td>\n",
       "      <td>13.72%</td>\n",
       "      <td>20.19%</td>\n",
       "      <td>14.03%</td>\n",
       "      <td>10.41%</td>\n",
       "      <td>10.37%</td>\n",
       "      <td>10.40%</td>\n",
       "      <td>0.17%</td>\n",
       "      <td>100.00%</td>\n",
       "    </tr>\n",
       "    <tr>\n",
       "      <th>1747</th>\n",
       "      <td>2022-12-26 00:00:00</td>\n",
       "      <td>21.00%</td>\n",
       "      <td>13.68%</td>\n",
       "      <td>20.07%</td>\n",
       "      <td>14.05%</td>\n",
       "      <td>10.36%</td>\n",
       "      <td>10.32%</td>\n",
       "      <td>10.35%</td>\n",
       "      <td>0.17%</td>\n",
       "      <td>100.00%</td>\n",
       "    </tr>\n",
       "    <tr>\n",
       "      <th>1748</th>\n",
       "      <td>2022-12-27 00:00:00</td>\n",
       "      <td>21.19%</td>\n",
       "      <td>13.71%</td>\n",
       "      <td>20.02%</td>\n",
       "      <td>14.05%</td>\n",
       "      <td>10.29%</td>\n",
       "      <td>10.27%</td>\n",
       "      <td>10.30%</td>\n",
       "      <td>0.17%</td>\n",
       "      <td>100.00%</td>\n",
       "    </tr>\n",
       "    <tr>\n",
       "      <th>1749</th>\n",
       "      <td>2022-12-28 00:00:00</td>\n",
       "      <td>20.87%</td>\n",
       "      <td>13.73%</td>\n",
       "      <td>19.83%</td>\n",
       "      <td>14.11%</td>\n",
       "      <td>10.42%</td>\n",
       "      <td>10.42%</td>\n",
       "      <td>10.45%</td>\n",
       "      <td>0.17%</td>\n",
       "      <td>100.00%</td>\n",
       "    </tr>\n",
       "    <tr>\n",
       "      <th>1750</th>\n",
       "      <td>2022-12-29 00:00:00</td>\n",
       "      <td>20.70%</td>\n",
       "      <td>13.63%</td>\n",
       "      <td>19.81%</td>\n",
       "      <td>14.08%</td>\n",
       "      <td>10.52%</td>\n",
       "      <td>10.53%</td>\n",
       "      <td>10.56%</td>\n",
       "      <td>0.17%</td>\n",
       "      <td>100.00%</td>\n",
       "    </tr>\n",
       "  </tbody>\n",
       "</table>\n",
       "<p>1751 rows × 10 columns</p>\n",
       "</div>"
      ],
      "text/plain": [
       "                     Date  코스닥150 KODEX200  나스닥100  S&P500    국고채3     단기채  \\\n",
       "0     2015-10-30 00:00:00   0.00%    9.98%  19.99%  19.99%  16.64%  16.66%   \n",
       "1     2015-11-02 00:00:00   0.00%   10.01%  19.86%  19.83%  16.73%  16.75%   \n",
       "2     2015-11-03 00:00:00   0.00%   10.05%  19.94%  20.01%  16.62%  16.66%   \n",
       "3     2015-11-04 00:00:00   0.00%   10.03%  19.97%  20.04%  16.60%  16.64%   \n",
       "4     2015-11-05 00:00:00   0.00%           20.09%  19.99%  16.58%  16.63%   \n",
       "...                   ...     ...      ...     ...     ...     ...     ...   \n",
       "1746  2022-12-23 00:00:00  20.70%   13.72%  20.19%  14.03%  10.41%  10.37%   \n",
       "1747  2022-12-26 00:00:00  21.00%   13.68%  20.07%  14.05%  10.36%  10.32%   \n",
       "1748  2022-12-27 00:00:00  21.19%   13.71%  20.02%  14.05%  10.29%  10.27%   \n",
       "1749  2022-12-28 00:00:00  20.87%   13.73%  19.83%  14.11%  10.42%  10.42%   \n",
       "1750  2022-12-29 00:00:00  20.70%   13.63%  19.81%  14.08%  10.52%  10.53%   \n",
       "\n",
       "         통안채   cash    total  \n",
       "0     16.65%  0.08%  100.00%  \n",
       "1     16.75%  0.08%  100.00%  \n",
       "2     16.65%  0.08%  100.00%  \n",
       "3     16.63%  0.08%  100.00%  \n",
       "4     16.62%  0.08%  100.00%  \n",
       "...      ...    ...      ...  \n",
       "1746  10.40%  0.17%  100.00%  \n",
       "1747  10.35%  0.17%  100.00%  \n",
       "1748  10.30%  0.17%  100.00%  \n",
       "1749  10.45%  0.17%  100.00%  \n",
       "1750  10.56%  0.17%  100.00%  \n",
       "\n",
       "[1751 rows x 10 columns]"
      ]
     },
     "execution_count": 12,
     "metadata": {},
     "output_type": "execute_result"
    }
   ],
   "source": [
    "df=df[['Date','코스닥150','KODEX200','나스닥100','S&P500','국고채3','단기채','통안채','cash','total']]\n",
    "df"
   ]
  },
  {
   "cell_type": "code",
   "execution_count": 41,
   "metadata": {},
   "outputs": [
    {
     "ename": "SyntaxError",
     "evalue": "invalid syntax (3424628363.py, line 1)",
     "output_type": "error",
     "traceback": [
      "\u001b[1;36m  Cell \u001b[1;32mIn[41], line 1\u001b[1;36m\u001b[0m\n\u001b[1;33m    sdate=df.Date.values[][:10]\u001b[0m\n\u001b[1;37m                         ^\u001b[0m\n\u001b[1;31mSyntaxError\u001b[0m\u001b[1;31m:\u001b[0m invalid syntax\n"
     ]
    }
   ],
   "source": [
    "sdate=df.Date.values[0][:10]\n",
    "sdate"
   ]
  },
  {
   "cell_type": "code",
   "execution_count": 39,
   "metadata": {},
   "outputs": [],
   "source": [
    "f_item1_val = float(df.KODEX200.values[0].rstrip('%')) / 100"
   ]
  },
  {
   "cell_type": "code",
   "execution_count": 40,
   "metadata": {},
   "outputs": [
    {
     "data": {
      "text/plain": [
       "0.0998"
      ]
     },
     "execution_count": 40,
     "metadata": {},
     "output_type": "execute_result"
    }
   ],
   "source": [
    "f_item1_val"
   ]
  },
  {
   "cell_type": "code",
   "execution_count": 28,
   "metadata": {},
   "outputs": [],
   "source": [
    "sqlst = \"INSERT INTO portfolio_dailympvalue (date, port_id, item1_val) values \" \\\n",
    "                        \"({sdate=df.Date.values[0][:10]}, {i_port_id}, {f_item1_val})\""
   ]
  },
  {
   "cell_type": "code",
   "execution_count": 29,
   "metadata": {},
   "outputs": [
    {
     "data": {
      "text/plain": [
       "'INSERT INTO portfolio_dailympvalue (date, port_id, item1_val) values ({sdate=df.Date.values[0][:10]}, {i_port_id}, {f_item1_val})'"
      ]
     },
     "execution_count": 29,
     "metadata": {},
     "output_type": "execute_result"
    }
   ],
   "source": [
    "sqlst"
   ]
  }
 ],
 "metadata": {
  "kernelspec": {
   "display_name": "v3121",
   "language": "python",
   "name": "python3"
  },
  "language_info": {
   "codemirror_mode": {
    "name": "ipython",
    "version": 3
   },
   "file_extension": ".py",
   "mimetype": "text/x-python",
   "name": "python",
   "nbconvert_exporter": "python",
   "pygments_lexer": "ipython3",
   "version": "3.12.1"
  }
 },
 "nbformat": 4,
 "nbformat_minor": 2
}
